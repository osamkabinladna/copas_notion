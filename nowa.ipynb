{
 "cells": [
  {
   "metadata": {},
   "cell_type": "markdown",
   "source": "### Load API Key",
   "id": "800207dc98d2ad6b"
  },
  {
   "metadata": {
    "ExecuteTime": {
     "end_time": "2024-08-10T10:30:00.099300Z",
     "start_time": "2024-08-10T10:30:00.091908Z"
    }
   },
   "cell_type": "code",
   "source": [
    "import os\n",
    "from notion_client import Client as OfficialClient\n",
    "from parsing import parse_to_notion_blocks, append_blocks_to_notion_page\n",
    "from rich import print as pretty_print\n",
    "from utils import link2id\n",
    "from dotenv import load_dotenv\n",
    "\n",
    "load_dotenv()\n",
    "normalny_token = os.getenv('NOTION_KEY')"
   ],
   "id": "fa32c25197a239e9",
   "outputs": [],
   "execution_count": 4
  },
  {
   "metadata": {
    "ExecuteTime": {
     "end_time": "2024-08-10T10:25:38.957074Z",
     "start_time": "2024-08-10T10:25:38.952775Z"
    }
   },
   "cell_type": "code",
   "source": [
    "# Example usage\n",
    "page_link = \"https://www.notion.so/Probability-Density-Function-c21f21bc9d39422c92e04e469ce99949?pvs=4\""
   ],
   "id": "31be9b99fea82c14",
   "outputs": [],
   "execution_count": 2
  },
  {
   "metadata": {
    "ExecuteTime": {
     "end_time": "2024-08-10T10:25:40.651236Z",
     "start_time": "2024-08-10T10:25:40.636389Z"
    }
   },
   "cell_type": "code",
   "source": [
    "# Example usage\n",
    "input_text = r\"\"\"\n",
    "Sure, here’s the explanation again with all math equations in KaTeX blocks.\n",
    "\n",
    "### Steps to Convert a Frequency Histogram to a PDF:\n",
    "\n",
    "1. **Create the Frequency Histogram**:\n",
    "   - First, create a histogram of your data. This involves dividing the data range into bins and counting how many data points fall into each bin.\n",
    "   - The y-axis of this histogram represents the frequency (the number of observations) in each bin.\n",
    "\n",
    "2. **Calculate Relative Frequency**:\n",
    "   - Divide the frequency of each bin by the total number of samples \\( N \\). This gives you the **relative frequency** for each bin.\n",
    "   - The relative frequency tells you what fraction of the total data falls within each bin.\n",
    "\n",
    "   \\[\n",
    "   \\text{Relative \\, Frequency} = \\frac{\\text{Frequency in Bin}}{N}\n",
    "   \\]\n",
    "\n",
    "3. **Convert to PDF**:\n",
    "   - To convert the relative frequency to a PDF, you need to adjust for the bin width \\( w \\) of the histogram.\n",
    "   - Divide the relative frequency of each bin by the bin width \\( w \\). This accounts for the size of the bins and converts the histogram into a continuous probability density.\n",
    "\n",
    "   \\[\n",
    "   \\text{PDF value for a bin} = \\frac{\\text{Relative \\, Frequency}}{w} = \\frac{\\text{Frequency in Bin}}{N \\times w}\n",
    "   \\]\n",
    "\n",
    "### Why This Works:\n",
    "\n",
    "- **Normalization**: The PDF must integrate to 1 over the entire range of the data. By dividing by both the total number of samples \\( N \\) and the bin width \\( w \\), you ensure that the area under the curve of the PDF equals 1.\n",
    "- **Interpretation**: The PDF shows the relative likelihood of observing values in different ranges of your data. The area under the curve in a specific interval gives you the probability of the data falling within that interval.\n",
    "\n",
    "### Example:\n",
    "\n",
    "Suppose you have a histogram of heights with the following data:\n",
    "- Total samples \\( N = 1000 \\)\n",
    "- Bin width \\( w = 5 \\) cm\n",
    "- A bin that covers heights from 160 cm to 165 cm has a frequency of 100.\n",
    "\n",
    "1. **Relative Frequency**:\n",
    "   \\[\n",
    "   \\text{Relative \\, Frequency} = \\frac{100}{1000} = 0.1\n",
    "   \\]\n",
    "\n",
    "2. **PDF Value**:\n",
    "   \\[\n",
    "   \\text{PDF value for the bin} = \\frac{0.1}{5} = 0.02\n",
    "   \\]\n",
    "\n",
    "The PDF value of \\( 0.02 \\) tells you that the density of the data within this bin is \\( 0.02 \\) per centimeter. If you were to calculate the area under the PDF curve over this bin (from 160 to 165 cm), it would give you the relative frequency of \\( 0.1 \\), matching the original data.\n",
    "\"\"\"\n",
    "\n",
    "notion_json = parse_to_notion_blocks(input_text)"
   ],
   "id": "3d46e4ca45f0ddb",
   "outputs": [],
   "execution_count": 3
  },
  {
   "metadata": {},
   "cell_type": "markdown",
   "source": "### Input to Test",
   "id": "73ec9b453eecacd3"
  },
  {
   "metadata": {},
   "cell_type": "code",
   "source": [
    "page_id = link2id(page_link)\n",
    "notion_json = parse_to_notion_blocks(input_text)\n",
    "append_blocks_to_notion_page(page_id, notion_json)"
   ],
   "id": "cd84cb9e787b357",
   "outputs": [],
   "execution_count": null
  }
 ],
 "metadata": {
  "kernelspec": {
   "display_name": "Python 3",
   "language": "python",
   "name": "python3"
  },
  "language_info": {
   "codemirror_mode": {
    "name": "ipython",
    "version": 2
   },
   "file_extension": ".py",
   "mimetype": "text/x-python",
   "name": "python",
   "nbconvert_exporter": "python",
   "pygments_lexer": "ipython2",
   "version": "2.7.6"
  }
 },
 "nbformat": 4,
 "nbformat_minor": 5
}
