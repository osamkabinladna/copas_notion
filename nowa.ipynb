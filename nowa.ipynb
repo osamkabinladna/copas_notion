{
 "cells": [
  {
   "metadata": {},
   "cell_type": "markdown",
   "source": "### Load API Key",
   "id": "800207dc98d2ad6b"
  },
  {
   "metadata": {
    "ExecuteTime": {
     "end_time": "2024-08-10T09:49:59.566459Z",
     "start_time": "2024-08-10T09:49:59.560098Z"
    }
   },
   "cell_type": "code",
   "source": [
    "import os\n",
    "normalny_token = os.getenv('NOTION_KEY')"
   ],
   "id": "fa32c25197a239e9",
   "outputs": [],
   "execution_count": 6
  },
  {
   "metadata": {
    "ExecuteTime": {
     "end_time": "2024-08-10T09:43:26.545518Z",
     "start_time": "2024-08-10T09:43:26.455541Z"
    }
   },
   "cell_type": "code",
   "source": [
    "# Example usage\n",
    "input_text = r\"\"\"\n",
    "Given an uniformly-distributed random variable \\( X \\) that takes only integers from \\( a \\) to \\( b \\) inclusive and\n",
    "\n",
    "\\[ P(3 \\leq X \\leq 7) = \\frac{1}{21} \\]\n",
    "\n",
    "\\[ P(0 \\leq X \\leq 5) = \\frac{1}{35} \\]\n",
    "\n",
    "What is \\( P(90 \\leq X \\leq 110) \\), if \\( a \\leq 3 \\) and \\( b \\geq 10 \\)?\n",
    "\"\"\"\n",
    "\n",
    "notion_json = parse_to_notion_blocks(input_text)\n"
   ],
   "id": "3d46e4ca45f0ddb",
   "outputs": [],
   "execution_count": 1
  },
  {
   "metadata": {
    "ExecuteTime": {
     "end_time": "2024-08-10T09:43:29.993517Z",
     "start_time": "2024-08-10T09:43:29.986878Z"
    }
   },
   "cell_type": "code",
   "source": [
    "def append_blocks_to_notion_page(page_id, blocks):\n",
    "    client = OfficialClient(auth=normalny_token)\n",
    "    for block in blocks['results']:\n",
    "        if block['type'] == 'paragraph':\n",
    "            # If the block is a paragraph, make sure the rich_text is correctly structured\n",
    "            rich_text = block['paragraph']['rich_text']\n",
    "            client.blocks.children.append(block_id=page_id, children=[\n",
    "                {\n",
    "                    'object': 'block',\n",
    "                    'type': 'paragraph',\n",
    "                    'paragraph': {\n",
    "                        'rich_text': rich_text,\n",
    "                        'color': block['paragraph']['color']\n",
    "                    }\n",
    "                }\n",
    "            ])\n",
    "        else:\n",
    "            # For other block types like equations\n",
    "            client.blocks.children.append(block_id=page_id, children=[block])\n",
    "\n",
    "# Example usage\n",
    "link_test = \"https://www.notion.so/Test-bc911ddc2c7046a691df5ecb726e5813?pvs=4\"\n",
    "link_target = \"https://www.notion.so/Target-afe483a9eeab4843b7f37334a401bedd?pvs=4\"\n"
   ],
   "id": "40b86c29cfbab018",
   "outputs": [],
   "execution_count": 2
  },
  {
   "metadata": {},
   "cell_type": "markdown",
   "source": "### Fetch Target",
   "id": "b2d9b9e26eb78d29"
  },
  {
   "metadata": {},
   "cell_type": "code",
   "source": [
    "def fetch_notion_data(token, id):\n",
    "    notion = OfficialClient(auth=token)\n",
    "    page_data = notion.blocks.children.list(block_id=id)\n",
    "    return page_data\n",
    "\n",
    "\n",
    "page_id = link2id(link_target)\n",
    "fetch_notion_data(normalny_token, page_id)"
   ],
   "id": "e3d3a7b879416948",
   "outputs": [],
   "execution_count": null
  },
  {
   "metadata": {},
   "cell_type": "markdown",
   "source": "### Fetch Test",
   "id": "f39d09f6ea91c164"
  },
  {
   "metadata": {},
   "cell_type": "code",
   "source": [
    "page_id = link2id(link_test)\n",
    "fetch_notion_data(normalny_token, page_id)"
   ],
   "id": "703f2517438fd65e",
   "outputs": [],
   "execution_count": null
  },
  {
   "metadata": {},
   "cell_type": "markdown",
   "source": "### Input to Test",
   "id": "73ec9b453eecacd3"
  },
  {
   "metadata": {
    "ExecuteTime": {
     "end_time": "2024-08-10T09:43:40.980482Z",
     "start_time": "2024-08-10T09:43:34.277968Z"
    }
   },
   "cell_type": "code",
   "source": [
    "page_id = link2id(link_test)\n",
    "notion_json = parse_to_notion_blocks(input_text)\n",
    "append_blocks_to_notion_page(page_id, notion_json)"
   ],
   "id": "cd84cb9e787b357",
   "outputs": [],
   "execution_count": 3
  }
 ],
 "metadata": {
  "kernelspec": {
   "display_name": "Python 3",
   "language": "python",
   "name": "python3"
  },
  "language_info": {
   "codemirror_mode": {
    "name": "ipython",
    "version": 2
   },
   "file_extension": ".py",
   "mimetype": "text/x-python",
   "name": "python",
   "nbconvert_exporter": "python",
   "pygments_lexer": "ipython2",
   "version": "2.7.6"
  }
 },
 "nbformat": 4,
 "nbformat_minor": 5
}
